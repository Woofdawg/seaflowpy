{
 "cells": [
  {
   "cell_type": "markdown",
   "metadata": {},
   "source": [
    "The full functionality of `seaflowpy` can be found through the various submodules, e.g. `seaflowpy.db`, `seaflowpy.evt`. However, for convenience a few of the most commonly-used functions and classes are exposed at the package level.\n",
    "\n",
    "* **seaflowpy.EVT**  \n",
    "Class for EVT particle data\n",
    "\n",
    "* **seaflowpy.find_evt_files**  \n",
    "Function to recursively find EVT/OPP file paths within a directory\n",
    "\n",
    "The code below will use the test dataset in this repository at `./tests/testcruise/`. The files in this directory hold raw EVT data, but in this example workflow we'll treat the files as though they actually contain filtered OPP data. For example, we may have already filtered EVT to OPP data on the command-line with `seaflowpy_filter`."
   ]
  },
  {
   "cell_type": "markdown",
   "metadata": {},
   "source": [
    "A note on terminology: In this package the phrase EVT can have two subtley different meanings.  \n",
    "\n",
    "* Any binary file or Python data structure which holds SeaFlow particle data, regardless of whether raw or filtered.\n",
    "* In the context of a filtering workflow, EVT refers to the raw, unfiltered/unfocused version of particle data, distinct from OPP data which refers to the filtered/focused particles.  \n",
    "\n",
    "When filtering, we talk about converting EVT data to OPP data. We may read a raw EVT file into Python as a `seaflowpy.EVT` object and the raw particle data is stored as a pandas DataFrame in the `EVT.df` attribute. We then filter the raw particle data with `seaflowpy.EVT.filter` and this filtered particle data is returned as a new EVT object representing OPP data. `seaflowpy_filter` is a convenient command-line wrapper for this process that can operate on whole cruises at a time."
   ]
  },
  {
   "cell_type": "code",
   "execution_count": 1,
   "metadata": {
    "collapsed": true
   },
   "outputs": [],
   "source": [
    "import seaflowpy as sfp"
   ]
  },
  {
   "cell_type": "code",
   "execution_count": 2,
   "metadata": {
    "collapsed": false
   },
   "outputs": [
    {
     "data": {
      "text/plain": [
       "['./tests/testcruise_opp/2014_185/2014-07-04T00-00-02+00-00.opp.gz',\n",
       " './tests/testcruise_opp/2014_185/2014-07-04T00-03-02+00-00.opp.gz']"
      ]
     },
     "execution_count": 2,
     "metadata": {},
     "output_type": "execute_result"
    }
   ],
   "source": [
    "opp_files = sfp.find_evt_files(\"./tests/testcruise_opp\")\n",
    "opp_files"
   ]
  },
  {
   "cell_type": "markdown",
   "metadata": {},
   "source": [
    "Let's read the EVT files into memory. In many cases we don't plan on using all 10 channels of particle data, so here we'll select only three of the possible ten channels (columns). This can significantly speed up data import when transforming (exponentiating log data) and lowers the memory footprint."
   ]
  },
  {
   "cell_type": "code",
   "execution_count": 3,
   "metadata": {
    "collapsed": false
   },
   "outputs": [
    {
     "data": {
      "text/plain": [
       "['time',\n",
       " 'pulse_width',\n",
       " 'D1',\n",
       " 'D2',\n",
       " 'fsc_small',\n",
       " 'fsc_perp',\n",
       " 'fsc_big',\n",
       " 'pe',\n",
       " 'chl_small',\n",
       " 'chl_big']"
      ]
     },
     "execution_count": 3,
     "metadata": {},
     "output_type": "execute_result"
    }
   ],
   "source": [
    "# The possible column names to choose from\n",
    "sfp.EVT.all_columns"
   ]
  },
  {
   "cell_type": "code",
   "execution_count": 4,
   "metadata": {
    "collapsed": false
   },
   "outputs": [],
   "source": [
    "opps = []\n",
    "for f in opp_files:\n",
    "    opps.append(sfp.EVT(f, transform=True, columns=[\"fsc_small\", \"chl_small\", \"pe\"]))"
   ]
  },
  {
   "cell_type": "markdown",
   "metadata": {},
   "source": [
    "Now we have some EVT objects in `opps`. We can print an one of the `EVT` objects in `opps` to get a quick summary of it's content."
   ]
  },
  {
   "cell_type": "code",
   "execution_count": 5,
   "metadata": {
    "collapsed": false
   },
   "outputs": [
    {
     "name": "stdout",
     "output_type": "stream",
     "text": [
      "{\n",
      "  \"path\": \"./tests/testcruise_opp/2014_185/2014-07-04T00-00-02+00-00.opp.gz\", \n",
      "  \"file_id\": \"2014_185/2014-07-04T00-00-02+00-00\", \n",
      "  \"headercnt\": 311, \n",
      "  \"particle_count\": 311, \n",
      "  \"columns\": [\n",
      "    \"fsc_small\", \n",
      "    \"pe\", \n",
      "    \"chl_small\"\n",
      "  ], \n",
      "  \"filter_options\": {\n",
      "    \"origin\": null, \n",
      "    \"width\": null, \n",
      "    \"notch1\": null, \n",
      "    \"notch2\": null, \n",
      "    \"offset\": null\n",
      "  }\n",
      "}\n"
     ]
    }
   ],
   "source": [
    "print opps[0]"
   ]
  },
  {
   "cell_type": "markdown",
   "metadata": {},
   "source": [
    "The underlying particle data can be accessed as a pandas DataFrame in the `df` attribute."
   ]
  },
  {
   "cell_type": "code",
   "execution_count": 7,
   "metadata": {
    "collapsed": false
   },
   "outputs": [
    {
     "name": "stdout",
     "output_type": "stream",
     "text": [
      "<class 'pandas.core.frame.DataFrame'>\n",
      "RangeIndex: 311 entries, 0 to 310\n",
      "Data columns (total 3 columns):\n",
      "fsc_small    311 non-null float64\n",
      "pe           311 non-null float64\n",
      "chl_small    311 non-null float64\n",
      "dtypes: float64(3)\n",
      "memory usage: 7.4 KB\n"
     ]
    }
   ],
   "source": [
    "opps[0].df.info()"
   ]
  },
  {
   "cell_type": "code",
   "execution_count": 8,
   "metadata": {
    "collapsed": false
   },
   "outputs": [
    {
     "data": {
      "text/html": [
       "<div>\n",
       "<table border=\"1\" class=\"dataframe\">\n",
       "  <thead>\n",
       "    <tr style=\"text-align: right;\">\n",
       "      <th></th>\n",
       "      <th>fsc_small</th>\n",
       "      <th>pe</th>\n",
       "      <th>chl_small</th>\n",
       "    </tr>\n",
       "  </thead>\n",
       "  <tbody>\n",
       "    <tr>\n",
       "      <th>0</th>\n",
       "      <td>5.910258</td>\n",
       "      <td>1.207901</td>\n",
       "      <td>7.622597</td>\n",
       "    </tr>\n",
       "    <tr>\n",
       "      <th>1</th>\n",
       "      <td>1.569201</td>\n",
       "      <td>1.399968</td>\n",
       "      <td>3.347019</td>\n",
       "    </tr>\n",
       "    <tr>\n",
       "      <th>2</th>\n",
       "      <td>2.330406</td>\n",
       "      <td>1.275528</td>\n",
       "      <td>5.276099</td>\n",
       "    </tr>\n",
       "    <tr>\n",
       "      <th>3</th>\n",
       "      <td>2.386083</td>\n",
       "      <td>1.172052</td>\n",
       "      <td>7.774060</td>\n",
       "    </tr>\n",
       "    <tr>\n",
       "      <th>4</th>\n",
       "      <td>2.452723</td>\n",
       "      <td>1.296561</td>\n",
       "      <td>5.875475</td>\n",
       "    </tr>\n",
       "  </tbody>\n",
       "</table>\n",
       "</div>"
      ],
      "text/plain": [
       "   fsc_small        pe  chl_small\n",
       "0   5.910258  1.207901   7.622597\n",
       "1   1.569201  1.399968   3.347019\n",
       "2   2.330406  1.275528   5.276099\n",
       "3   2.386083  1.172052   7.774060\n",
       "4   2.452723  1.296561   5.875475"
      ]
     },
     "execution_count": 8,
     "metadata": {},
     "output_type": "execute_result"
    }
   ],
   "source": [
    "opps[0].df.head()"
   ]
  },
  {
   "cell_type": "markdown",
   "metadata": {},
   "source": [
    "Let's assume this data set has already been analyzed and population classifications exist in a directory called `./tests/testcruise_vct`. We can add these per-particle classifications to our `EVT` objects with `seaflowpy.EVT.add_vct`.\n",
    "\n",
    "`add_vct` can take a directory as its only argument. In order to find the appropriate VCT file the structure of this directory should mirror the OPP and raw EVT directories (julian day/file).\n",
    "\n",
    "`add_vct` can also take a path to a VCT file if the file has an unconventional name or location."
   ]
  },
  {
   "cell_type": "code",
   "execution_count": 9,
   "metadata": {
    "collapsed": false
   },
   "outputs": [
    {
     "data": {
      "text/html": [
       "<div>\n",
       "<table border=\"1\" class=\"dataframe\">\n",
       "  <thead>\n",
       "    <tr style=\"text-align: right;\">\n",
       "      <th></th>\n",
       "      <th>fsc_small</th>\n",
       "      <th>pe</th>\n",
       "      <th>chl_small</th>\n",
       "      <th>pop</th>\n",
       "    </tr>\n",
       "  </thead>\n",
       "  <tbody>\n",
       "    <tr>\n",
       "      <th>0</th>\n",
       "      <td>5.910258</td>\n",
       "      <td>1.207901</td>\n",
       "      <td>7.622597</td>\n",
       "      <td>prochloro</td>\n",
       "    </tr>\n",
       "    <tr>\n",
       "      <th>1</th>\n",
       "      <td>1.569201</td>\n",
       "      <td>1.399968</td>\n",
       "      <td>3.347019</td>\n",
       "      <td>prochloro</td>\n",
       "    </tr>\n",
       "    <tr>\n",
       "      <th>2</th>\n",
       "      <td>2.330406</td>\n",
       "      <td>1.275528</td>\n",
       "      <td>5.276099</td>\n",
       "      <td>prochloro</td>\n",
       "    </tr>\n",
       "    <tr>\n",
       "      <th>3</th>\n",
       "      <td>2.386083</td>\n",
       "      <td>1.172052</td>\n",
       "      <td>7.774060</td>\n",
       "      <td>prochloro</td>\n",
       "    </tr>\n",
       "    <tr>\n",
       "      <th>4</th>\n",
       "      <td>2.452723</td>\n",
       "      <td>1.296561</td>\n",
       "      <td>5.875475</td>\n",
       "      <td>prochloro</td>\n",
       "    </tr>\n",
       "  </tbody>\n",
       "</table>\n",
       "</div>"
      ],
      "text/plain": [
       "   fsc_small        pe  chl_small        pop\n",
       "0   5.910258  1.207901   7.622597  prochloro\n",
       "1   1.569201  1.399968   3.347019  prochloro\n",
       "2   2.330406  1.275528   5.276099  prochloro\n",
       "3   2.386083  1.172052   7.774060  prochloro\n",
       "4   2.452723  1.296561   5.875475  prochloro"
      ]
     },
     "execution_count": 9,
     "metadata": {},
     "output_type": "execute_result"
    }
   ],
   "source": [
    "for opp in opps:\n",
    "    opp.add_vct(\"./tests/testcruise_vct\")\n",
    "opps[0].df.head()  # a new \"pop\" column has been added"
   ]
  },
  {
   "cell_type": "markdown",
   "metadata": {},
   "source": [
    "Now we can operate on the pandas particle DataFrame directly to get per-population statistics ..."
   ]
  },
  {
   "cell_type": "code",
   "execution_count": 12,
   "metadata": {
    "collapsed": false
   },
   "outputs": [
    {
     "data": {
      "text/html": [
       "<div>\n",
       "<table border=\"1\" class=\"dataframe\">\n",
       "  <thead>\n",
       "    <tr style=\"text-align: right;\">\n",
       "      <th></th>\n",
       "      <th></th>\n",
       "      <th>chl_small</th>\n",
       "      <th>fsc_small</th>\n",
       "      <th>pe</th>\n",
       "    </tr>\n",
       "    <tr>\n",
       "      <th>pop</th>\n",
       "      <th></th>\n",
       "      <th></th>\n",
       "      <th></th>\n",
       "      <th></th>\n",
       "    </tr>\n",
       "  </thead>\n",
       "  <tbody>\n",
       "    <tr>\n",
       "      <th rowspan=\"8\" valign=\"top\">beads</th>\n",
       "      <th>count</th>\n",
       "      <td>32.000000</td>\n",
       "      <td>32.000000</td>\n",
       "      <td>32.000000</td>\n",
       "    </tr>\n",
       "    <tr>\n",
       "      <th>mean</th>\n",
       "      <td>62.844820</td>\n",
       "      <td>66.082089</td>\n",
       "      <td>713.790284</td>\n",
       "    </tr>\n",
       "    <tr>\n",
       "      <th>std</th>\n",
       "      <td>20.373286</td>\n",
       "      <td>16.296957</td>\n",
       "      <td>171.395491</td>\n",
       "    </tr>\n",
       "    <tr>\n",
       "      <th>min</th>\n",
       "      <td>27.405853</td>\n",
       "      <td>28.523328</td>\n",
       "      <td>340.508047</td>\n",
       "    </tr>\n",
       "    <tr>\n",
       "      <th>25%</th>\n",
       "      <td>50.850583</td>\n",
       "      <td>60.095129</td>\n",
       "      <td>656.883216</td>\n",
       "    </tr>\n",
       "    <tr>\n",
       "      <th>50%</th>\n",
       "      <td>61.563354</td>\n",
       "      <td>62.908026</td>\n",
       "      <td>697.362475</td>\n",
       "    </tr>\n",
       "    <tr>\n",
       "      <th>75%</th>\n",
       "      <td>69.339880</td>\n",
       "      <td>66.897961</td>\n",
       "      <td>738.465171</td>\n",
       "    </tr>\n",
       "    <tr>\n",
       "      <th>max</th>\n",
       "      <td>135.056675</td>\n",
       "      <td>127.487836</td>\n",
       "      <td>1269.157805</td>\n",
       "    </tr>\n",
       "    <tr>\n",
       "      <th rowspan=\"8\" valign=\"top\">picoeuks</th>\n",
       "      <th>count</th>\n",
       "      <td>11.000000</td>\n",
       "      <td>11.000000</td>\n",
       "      <td>11.000000</td>\n",
       "    </tr>\n",
       "    <tr>\n",
       "      <th>mean</th>\n",
       "      <td>269.091223</td>\n",
       "      <td>170.217994</td>\n",
       "      <td>1.570495</td>\n",
       "    </tr>\n",
       "    <tr>\n",
       "      <th>std</th>\n",
       "      <td>164.227423</td>\n",
       "      <td>103.525577</td>\n",
       "      <td>0.332227</td>\n",
       "    </tr>\n",
       "    <tr>\n",
       "      <th>min</th>\n",
       "      <td>53.818816</td>\n",
       "      <td>32.928968</td>\n",
       "      <td>1.163579</td>\n",
       "    </tr>\n",
       "    <tr>\n",
       "      <th>25%</th>\n",
       "      <td>163.953397</td>\n",
       "      <td>83.527613</td>\n",
       "      <td>1.287085</td>\n",
       "    </tr>\n",
       "    <tr>\n",
       "      <th>50%</th>\n",
       "      <td>257.507267</td>\n",
       "      <td>177.777965</td>\n",
       "      <td>1.568237</td>\n",
       "    </tr>\n",
       "    <tr>\n",
       "      <th>75%</th>\n",
       "      <td>354.443180</td>\n",
       "      <td>232.287958</td>\n",
       "      <td>1.737138</td>\n",
       "    </tr>\n",
       "    <tr>\n",
       "      <th>max</th>\n",
       "      <td>619.288486</td>\n",
       "      <td>357.456054</td>\n",
       "      <td>2.237455</td>\n",
       "    </tr>\n",
       "    <tr>\n",
       "      <th rowspan=\"8\" valign=\"top\">prochloro</th>\n",
       "      <th>count</th>\n",
       "      <td>209.000000</td>\n",
       "      <td>209.000000</td>\n",
       "      <td>209.000000</td>\n",
       "    </tr>\n",
       "    <tr>\n",
       "      <th>mean</th>\n",
       "      <td>4.169146</td>\n",
       "      <td>3.246681</td>\n",
       "      <td>1.452875</td>\n",
       "    </tr>\n",
       "    <tr>\n",
       "      <th>std</th>\n",
       "      <td>2.502584</td>\n",
       "      <td>2.801370</td>\n",
       "      <td>3.252564</td>\n",
       "    </tr>\n",
       "    <tr>\n",
       "      <th>min</th>\n",
       "      <td>1.407390</td>\n",
       "      <td>1.161292</td>\n",
       "      <td>1.000000</td>\n",
       "    </tr>\n",
       "    <tr>\n",
       "      <th>25%</th>\n",
       "      <td>2.225929</td>\n",
       "      <td>2.087277</td>\n",
       "      <td>1.088286</td>\n",
       "    </tr>\n",
       "    <tr>\n",
       "      <th>50%</th>\n",
       "      <td>3.454062</td>\n",
       "      <td>2.695653</td>\n",
       "      <td>1.204785</td>\n",
       "    </tr>\n",
       "    <tr>\n",
       "      <th>75%</th>\n",
       "      <td>5.367058</td>\n",
       "      <td>3.488209</td>\n",
       "      <td>1.320537</td>\n",
       "    </tr>\n",
       "    <tr>\n",
       "      <th>max</th>\n",
       "      <td>13.346464</td>\n",
       "      <td>29.726552</td>\n",
       "      <td>48.168392</td>\n",
       "    </tr>\n",
       "    <tr>\n",
       "      <th rowspan=\"8\" valign=\"top\">synecho</th>\n",
       "      <th>count</th>\n",
       "      <td>56.000000</td>\n",
       "      <td>56.000000</td>\n",
       "      <td>56.000000</td>\n",
       "    </tr>\n",
       "    <tr>\n",
       "      <th>mean</th>\n",
       "      <td>11.003391</td>\n",
       "      <td>15.975406</td>\n",
       "      <td>10.056037</td>\n",
       "    </tr>\n",
       "    <tr>\n",
       "      <th>std</th>\n",
       "      <td>9.137062</td>\n",
       "      <td>23.931897</td>\n",
       "      <td>7.211292</td>\n",
       "    </tr>\n",
       "    <tr>\n",
       "      <th>min</th>\n",
       "      <td>1.380819</td>\n",
       "      <td>2.727665</td>\n",
       "      <td>2.201159</td>\n",
       "    </tr>\n",
       "    <tr>\n",
       "      <th>25%</th>\n",
       "      <td>5.180575</td>\n",
       "      <td>8.225668</td>\n",
       "      <td>4.574608</td>\n",
       "    </tr>\n",
       "    <tr>\n",
       "      <th>50%</th>\n",
       "      <td>8.694891</td>\n",
       "      <td>11.295335</td>\n",
       "      <td>8.153070</td>\n",
       "    </tr>\n",
       "    <tr>\n",
       "      <th>75%</th>\n",
       "      <td>13.609542</td>\n",
       "      <td>15.599528</td>\n",
       "      <td>12.011720</td>\n",
       "    </tr>\n",
       "    <tr>\n",
       "      <th>max</th>\n",
       "      <td>50.237372</td>\n",
       "      <td>173.288416</td>\n",
       "      <td>36.212689</td>\n",
       "    </tr>\n",
       "    <tr>\n",
       "      <th rowspan=\"8\" valign=\"top\">unknown</th>\n",
       "      <th>count</th>\n",
       "      <td>3.000000</td>\n",
       "      <td>3.000000</td>\n",
       "      <td>3.000000</td>\n",
       "    </tr>\n",
       "    <tr>\n",
       "      <th>mean</th>\n",
       "      <td>4.250202</td>\n",
       "      <td>98.637351</td>\n",
       "      <td>2.225913</td>\n",
       "    </tr>\n",
       "    <tr>\n",
       "      <th>std</th>\n",
       "      <td>4.344690</td>\n",
       "      <td>50.392562</td>\n",
       "      <td>0.654534</td>\n",
       "    </tr>\n",
       "    <tr>\n",
       "      <th>min</th>\n",
       "      <td>1.334576</td>\n",
       "      <td>51.267114</td>\n",
       "      <td>1.486004</td>\n",
       "    </tr>\n",
       "    <tr>\n",
       "      <th>25%</th>\n",
       "      <td>1.753481</td>\n",
       "      <td>72.162159</td>\n",
       "      <td>1.974199</td>\n",
       "    </tr>\n",
       "    <tr>\n",
       "      <th>50%</th>\n",
       "      <td>2.172386</td>\n",
       "      <td>93.057204</td>\n",
       "      <td>2.462393</td>\n",
       "    </tr>\n",
       "    <tr>\n",
       "      <th>75%</th>\n",
       "      <td>5.708015</td>\n",
       "      <td>122.322469</td>\n",
       "      <td>2.595868</td>\n",
       "    </tr>\n",
       "    <tr>\n",
       "      <th>max</th>\n",
       "      <td>9.243644</td>\n",
       "      <td>151.587735</td>\n",
       "      <td>2.729343</td>\n",
       "    </tr>\n",
       "  </tbody>\n",
       "</table>\n",
       "</div>"
      ],
      "text/plain": [
       "                  chl_small   fsc_small           pe\n",
       "pop                                                 \n",
       "beads     count   32.000000   32.000000    32.000000\n",
       "          mean    62.844820   66.082089   713.790284\n",
       "          std     20.373286   16.296957   171.395491\n",
       "          min     27.405853   28.523328   340.508047\n",
       "          25%     50.850583   60.095129   656.883216\n",
       "          50%     61.563354   62.908026   697.362475\n",
       "          75%     69.339880   66.897961   738.465171\n",
       "          max    135.056675  127.487836  1269.157805\n",
       "picoeuks  count   11.000000   11.000000    11.000000\n",
       "          mean   269.091223  170.217994     1.570495\n",
       "          std    164.227423  103.525577     0.332227\n",
       "          min     53.818816   32.928968     1.163579\n",
       "          25%    163.953397   83.527613     1.287085\n",
       "          50%    257.507267  177.777965     1.568237\n",
       "          75%    354.443180  232.287958     1.737138\n",
       "          max    619.288486  357.456054     2.237455\n",
       "prochloro count  209.000000  209.000000   209.000000\n",
       "          mean     4.169146    3.246681     1.452875\n",
       "          std      2.502584    2.801370     3.252564\n",
       "          min      1.407390    1.161292     1.000000\n",
       "          25%      2.225929    2.087277     1.088286\n",
       "          50%      3.454062    2.695653     1.204785\n",
       "          75%      5.367058    3.488209     1.320537\n",
       "          max     13.346464   29.726552    48.168392\n",
       "synecho   count   56.000000   56.000000    56.000000\n",
       "          mean    11.003391   15.975406    10.056037\n",
       "          std      9.137062   23.931897     7.211292\n",
       "          min      1.380819    2.727665     2.201159\n",
       "          25%      5.180575    8.225668     4.574608\n",
       "          50%      8.694891   11.295335     8.153070\n",
       "          75%     13.609542   15.599528    12.011720\n",
       "          max     50.237372  173.288416    36.212689\n",
       "unknown   count    3.000000    3.000000     3.000000\n",
       "          mean     4.250202   98.637351     2.225913\n",
       "          std      4.344690   50.392562     0.654534\n",
       "          min      1.334576   51.267114     1.486004\n",
       "          25%      1.753481   72.162159     1.974199\n",
       "          50%      2.172386   93.057204     2.462393\n",
       "          75%      5.708015  122.322469     2.595868\n",
       "          max      9.243644  151.587735     2.729343"
      ]
     },
     "execution_count": 12,
     "metadata": {},
     "output_type": "execute_result"
    }
   ],
   "source": [
    "bypop = opps[0].df.groupby(\"pop\")\n",
    "bypop.describe()"
   ]
  },
  {
   "cell_type": "code",
   "execution_count": 13,
   "metadata": {
    "collapsed": false
   },
   "outputs": [
    {
     "data": {
      "text/html": [
       "<div>\n",
       "<table border=\"1\" class=\"dataframe\">\n",
       "  <thead>\n",
       "    <tr style=\"text-align: right;\">\n",
       "      <th></th>\n",
       "      <th>fsc_small</th>\n",
       "      <th>pe</th>\n",
       "      <th>chl_small</th>\n",
       "    </tr>\n",
       "    <tr>\n",
       "      <th>pop</th>\n",
       "      <th></th>\n",
       "      <th></th>\n",
       "      <th></th>\n",
       "    </tr>\n",
       "  </thead>\n",
       "  <tbody>\n",
       "    <tr>\n",
       "      <th>beads</th>\n",
       "      <td>66.082089</td>\n",
       "      <td>713.790284</td>\n",
       "      <td>62.844820</td>\n",
       "    </tr>\n",
       "    <tr>\n",
       "      <th>picoeuks</th>\n",
       "      <td>170.217994</td>\n",
       "      <td>1.570495</td>\n",
       "      <td>269.091223</td>\n",
       "    </tr>\n",
       "    <tr>\n",
       "      <th>prochloro</th>\n",
       "      <td>3.246681</td>\n",
       "      <td>1.452875</td>\n",
       "      <td>4.169146</td>\n",
       "    </tr>\n",
       "    <tr>\n",
       "      <th>synecho</th>\n",
       "      <td>15.975406</td>\n",
       "      <td>10.056037</td>\n",
       "      <td>11.003391</td>\n",
       "    </tr>\n",
       "    <tr>\n",
       "      <th>unknown</th>\n",
       "      <td>98.637351</td>\n",
       "      <td>2.225913</td>\n",
       "      <td>4.250202</td>\n",
       "    </tr>\n",
       "  </tbody>\n",
       "</table>\n",
       "</div>"
      ],
      "text/plain": [
       "            fsc_small          pe   chl_small\n",
       "pop                                          \n",
       "beads       66.082089  713.790284   62.844820\n",
       "picoeuks   170.217994    1.570495  269.091223\n",
       "prochloro    3.246681    1.452875    4.169146\n",
       "synecho     15.975406   10.056037   11.003391\n",
       "unknown     98.637351    2.225913    4.250202"
      ]
     },
     "execution_count": 13,
     "metadata": {},
     "output_type": "execute_result"
    }
   ],
   "source": [
    "bypop.mean()"
   ]
  },
  {
   "cell_type": "code",
   "execution_count": 16,
   "metadata": {
    "collapsed": false
   },
   "outputs": [
    {
     "data": {
      "text/plain": [
       "pop\n",
       "beads         32\n",
       "picoeuks      11\n",
       "prochloro    209\n",
       "synecho       56\n",
       "unknown        3\n",
       "dtype: int64"
      ]
     },
     "execution_count": 16,
     "metadata": {},
     "output_type": "execute_result"
    }
   ],
   "source": [
    "bypop.size()"
   ]
  },
  {
   "cell_type": "markdown",
   "metadata": {},
   "source": [
    "Or we can call the `calc_pop_stats` method of the EVT object to get the same summary statistics that are saved in the SQLite3 database in a full classification workflow. This returns a dictionary keyed by population name with particle counts and per-channel means for fsc_small, fsc_perp, pe, chl_small. If one of these columns is not present in the EVT object, as fsc_perp is not here, it's left out of the results."
   ]
  },
  {
   "cell_type": "code",
   "execution_count": 17,
   "metadata": {
    "collapsed": false
   },
   "outputs": [
    {
     "name": "stdout",
     "output_type": "stream",
     "text": [
      "{'beads': {'chl_small': 62.844820377567423,\n",
      "           'count': 32,\n",
      "           'fsc_small': 66.082089253352152,\n",
      "           'pe': 713.79028388252448,\n",
      "           'pop': 'beads'},\n",
      " 'picoeuks': {'chl_small': 269.09122302558416,\n",
      "              'count': 11,\n",
      "              'fsc_small': 170.21799412509833,\n",
      "              'pe': 1.5704954730981802,\n",
      "              'pop': 'picoeuks'},\n",
      " 'prochloro': {'chl_small': 4.1691456035233285,\n",
      "               'count': 209,\n",
      "               'fsc_small': 3.2466805231098097,\n",
      "               'pe': 1.4528746234825047,\n",
      "               'pop': 'prochloro'},\n",
      " 'synecho': {'chl_small': 11.003391430545795,\n",
      "             'count': 56,\n",
      "             'fsc_small': 15.975406106058495,\n",
      "             'pe': 10.056036589763725,\n",
      "             'pop': 'synecho'},\n",
      " 'unknown': {'chl_small': 4.2502018637029648,\n",
      "             'count': 3,\n",
      "             'fsc_small': 98.637350755091575,\n",
      "             'pe': 2.2259132596616382,\n",
      "             'pop': 'unknown'}}\n"
     ]
    }
   ],
   "source": [
    "import pprint\n",
    "pprint.pprint(opps[0].calc_pop_stats())"
   ]
  },
  {
   "cell_type": "code",
   "execution_count": null,
   "metadata": {
    "collapsed": true
   },
   "outputs": [],
   "source": []
  }
 ],
 "metadata": {
  "kernelspec": {
   "display_name": "Python 2",
   "language": "python",
   "name": "python2"
  },
  "language_info": {
   "codemirror_mode": {
    "name": "ipython",
    "version": 2
   },
   "file_extension": ".py",
   "mimetype": "text/x-python",
   "name": "python",
   "nbconvert_exporter": "python",
   "pygments_lexer": "ipython2",
   "version": "2.7.11"
  }
 },
 "nbformat": 4,
 "nbformat_minor": 0
}
