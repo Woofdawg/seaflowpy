{
 "cells": [
  {
   "cell_type": "markdown",
   "metadata": {},
   "source": [
    "The full functionality of `seaflowpy` can be found through the various submodules, e.g. `seaflowpy.db`, `seaflowpy.evt`. However, for convenience a few of the most commonly-used functions and classes are exposed at the package level.\n",
    "\n",
    "* **seaflowpy.EVT**  \n",
    "Class for EVT particle data\n",
    "\n",
    "* **seaflowpy.find_evt_files**  \n",
    "Function to recursively find EVT/OPP file paths within a directory\n",
    "\n",
    "* **seaflowpy.concat_evts**  \n",
    "Function to create a EVT single Pandas DataFrame from a list of EVT objects\n",
    "\n",
    "The code below will use the test dataset in this repository at `./tests/testcruise/`. The files in this directory hold raw EVT data, but in this example workflow we'll treat the files as though they actually contain filtered OPP data. For example, we may have already filtered EVT to OPP data on the command-line with `filterevt`."
   ]
  },
  {
   "cell_type": "markdown",
   "metadata": {},
   "source": [
    "A note on terminology: In this package the phrase EVT can have two subtley different meanings.  \n",
    "\n",
    "* Any binary file or Python data structure which holds SeaFlow particle data, regardless of whether raw or filtered.\n",
    "* In the context of a filtering workflow, EVT refers to the raw, unfocused/unfiltered version of particle data, distinct from OPP data which refers to the filtered/focused particles.  \n",
    "\n",
    "When filtering, we talk about converting EVT data to OPP data. We may read a raw EVT file into Python as a `seaflowpy.EVT` object and the raw particle data is stored as a pandas DataFrame in the `EVT.evt` attribute. We then filter the raw particle data with `seaflowpy.EVT.filter` and this filtered particle data is accessible as a pandas DataFrame in the `EVT.opp` atttribute. This is essentially what `filterevt` does.\n",
    "\n",
    "But when we read filtered OPP files from disk, `seaflowpy.EVT` treats them in the same way it would treat reading raw EVT files. Particle data is stored in the new `EVT` object as a pandas DataFrame in the `EVT.evt` attribute (even though we know that this is the OPP data)."
   ]
  },
  {
   "cell_type": "code",
   "execution_count": 1,
   "metadata": {
    "collapsed": true
   },
   "outputs": [],
   "source": [
    "import seaflowpy as sfp"
   ]
  },
  {
   "cell_type": "code",
   "execution_count": 8,
   "metadata": {
    "collapsed": false
   },
   "outputs": [
    {
     "data": {
      "text/plain": [
       "['./tests/testcruise_opp/2014_185/2014-07-04T00-00-02+00-00.opp.gz',\n",
       " './tests/testcruise_opp/2014_185/2014-07-04T00-03-02+00-00.opp.gz']"
      ]
     },
     "execution_count": 8,
     "metadata": {},
     "output_type": "execute_result"
    }
   ],
   "source": [
    "opp_files = sfp.find_evt_files(\"./tests/testcruise_opp\")\n",
    "opp_files"
   ]
  },
  {
   "cell_type": "markdown",
   "metadata": {},
   "source": [
    "Let's read the EVT files into memory. In many cases we don't plan on using all 10 channels of particle data, so here we'll select only three of the possible ten channels (columns). This can significantly speed up data import when transforming (exponentiating log data) and lowers the memory footprint."
   ]
  },
  {
   "cell_type": "code",
   "execution_count": 9,
   "metadata": {
    "collapsed": false
   },
   "outputs": [
    {
     "data": {
      "text/plain": [
       "['time',\n",
       " 'pulse_width',\n",
       " 'D1',\n",
       " 'D2',\n",
       " 'fsc_small',\n",
       " 'fsc_perp',\n",
       " 'fsc_big',\n",
       " 'pe',\n",
       " 'chl_small',\n",
       " 'chl_big']"
      ]
     },
     "execution_count": 9,
     "metadata": {},
     "output_type": "execute_result"
    }
   ],
   "source": [
    "# The possible column names to choose from\n",
    "sfp.EVT.all_columns"
   ]
  },
  {
   "cell_type": "code",
   "execution_count": 10,
   "metadata": {
    "collapsed": false
   },
   "outputs": [],
   "source": [
    "opps = []\n",
    "for f in opp_files:\n",
    "    opps.append(sfp.EVT(f, transform=True, columns=[\"fsc_small\", \"chl_small\", \"pe\"]))"
   ]
  },
  {
   "cell_type": "markdown",
   "metadata": {},
   "source": [
    "Now we have some EVT objects in `opps`. We can print an one of the `EVT` objects in `opps` to get a quick summary of it's content."
   ]
  },
  {
   "cell_type": "code",
   "execution_count": 11,
   "metadata": {
    "collapsed": false
   },
   "outputs": [
    {
     "name": "stdout",
     "output_type": "stream",
     "text": [
      "{\n",
      "  \"path\": \"./tests/testcruise_opp/2014_185/2014-07-04T00-00-02+00-00.opp.gz\", \n",
      "  \"file_id\": \"2014_185/2014-07-04T00-00-02+00-00\", \n",
      "  \"evt_count\": 345, \n",
      "  \"opp_count\": 0, \n",
      "  \"notch1\": null, \n",
      "  \"notch2\": null, \n",
      "  \"offset\": null, \n",
      "  \"origin\": null, \n",
      "  \"width\": null, \n",
      "  \"columns\": [\n",
      "    \"fsc_small\", \n",
      "    \"pe\", \n",
      "    \"chl_small\"\n",
      "  ]\n",
      "}\n"
     ]
    }
   ],
   "source": [
    "print opps[0]"
   ]
  },
  {
   "cell_type": "markdown",
   "metadata": {},
   "source": [
    "The underlying particle data can be accessed as a pandas DataFrame in the `evt` attribute."
   ]
  },
  {
   "cell_type": "code",
   "execution_count": 12,
   "metadata": {
    "collapsed": false
   },
   "outputs": [
    {
     "name": "stdout",
     "output_type": "stream",
     "text": [
      "<class 'pandas.core.frame.DataFrame'>\n",
      "RangeIndex: 345 entries, 0 to 344\n",
      "Data columns (total 3 columns):\n",
      "fsc_small    345 non-null float64\n",
      "pe           345 non-null float64\n",
      "chl_small    345 non-null float64\n",
      "dtypes: float64(3)\n",
      "memory usage: 8.2 KB\n"
     ]
    }
   ],
   "source": [
    "opps[0].evt.info()"
   ]
  },
  {
   "cell_type": "code",
   "execution_count": 13,
   "metadata": {
    "collapsed": false
   },
   "outputs": [
    {
     "data": {
      "text/html": [
       "<div>\n",
       "<table border=\"1\" class=\"dataframe\">\n",
       "  <thead>\n",
       "    <tr style=\"text-align: right;\">\n",
       "      <th></th>\n",
       "      <th>fsc_small</th>\n",
       "      <th>pe</th>\n",
       "      <th>chl_small</th>\n",
       "    </tr>\n",
       "  </thead>\n",
       "  <tbody>\n",
       "    <tr>\n",
       "      <th>0</th>\n",
       "      <td>5.910258</td>\n",
       "      <td>1.207901</td>\n",
       "      <td>7.622597</td>\n",
       "    </tr>\n",
       "    <tr>\n",
       "      <th>1</th>\n",
       "      <td>2.859557</td>\n",
       "      <td>1.269581</td>\n",
       "      <td>2.958641</td>\n",
       "    </tr>\n",
       "    <tr>\n",
       "      <th>2</th>\n",
       "      <td>1.569201</td>\n",
       "      <td>1.399968</td>\n",
       "      <td>3.347019</td>\n",
       "    </tr>\n",
       "    <tr>\n",
       "      <th>3</th>\n",
       "      <td>2.330406</td>\n",
       "      <td>1.275528</td>\n",
       "      <td>5.276099</td>\n",
       "    </tr>\n",
       "    <tr>\n",
       "      <th>4</th>\n",
       "      <td>2.386083</td>\n",
       "      <td>1.172052</td>\n",
       "      <td>7.774060</td>\n",
       "    </tr>\n",
       "  </tbody>\n",
       "</table>\n",
       "</div>"
      ],
      "text/plain": [
       "   fsc_small        pe  chl_small\n",
       "0   5.910258  1.207901   7.622597\n",
       "1   2.859557  1.269581   2.958641\n",
       "2   1.569201  1.399968   3.347019\n",
       "3   2.330406  1.275528   5.276099\n",
       "4   2.386083  1.172052   7.774060"
      ]
     },
     "execution_count": 13,
     "metadata": {},
     "output_type": "execute_result"
    }
   ],
   "source": [
    "opps[0].evt.head()"
   ]
  },
  {
   "cell_type": "markdown",
   "metadata": {},
   "source": [
    "Let's assume this data set has already been analyzed and population classifications exist in a directory called `./tests/testcruise_opp`. We can add these per-particle classifications to our `EVT` objects."
   ]
  },
  {
   "cell_type": "code",
   "execution_count": 15,
   "metadata": {
    "collapsed": false
   },
   "outputs": [
    {
     "data": {
      "text/plain": [
       "['./tests/testcruise_vct/2014_185/2014-07-04T00-00-02+00-00.vct.gz',\n",
       " './tests/testcruise_vct/2014_185/2014-07-04T00-03-02+00-00.vct']"
      ]
     },
     "execution_count": 15,
     "metadata": {},
     "output_type": "execute_result"
    }
   ],
   "source": [
    "vct_files = sfp.find_vct_files(\"./tests/testcruise_vct\")\n",
    "vct_files"
   ]
  },
  {
   "cell_type": "code",
   "execution_count": 16,
   "metadata": {
    "collapsed": true
   },
   "outputs": [],
   "source": [
    "vcts = []\n",
    "for f in vct_files:\n",
    "    vcts.append(sfp.VCT(f))\n",
    "\n",
    "sfp.combine_evts_vcts(opps, vcts)  # remember the opps contains EVT objects"
   ]
  },
  {
   "cell_type": "code",
   "execution_count": 22,
   "metadata": {
    "collapsed": false
   },
   "outputs": [
    {
     "data": {
      "text/html": [
       "<div>\n",
       "<table border=\"1\" class=\"dataframe\">\n",
       "  <thead>\n",
       "    <tr style=\"text-align: right;\">\n",
       "      <th></th>\n",
       "      <th>fsc_small</th>\n",
       "      <th>pe</th>\n",
       "      <th>chl_small</th>\n",
       "      <th>pop</th>\n",
       "    </tr>\n",
       "  </thead>\n",
       "  <tbody>\n",
       "    <tr>\n",
       "      <th>0</th>\n",
       "      <td>5.910258</td>\n",
       "      <td>1.207901</td>\n",
       "      <td>7.622597</td>\n",
       "      <td>prochloro</td>\n",
       "    </tr>\n",
       "    <tr>\n",
       "      <th>1</th>\n",
       "      <td>2.859557</td>\n",
       "      <td>1.269581</td>\n",
       "      <td>2.958641</td>\n",
       "      <td>prochloro</td>\n",
       "    </tr>\n",
       "    <tr>\n",
       "      <th>2</th>\n",
       "      <td>1.569201</td>\n",
       "      <td>1.399968</td>\n",
       "      <td>3.347019</td>\n",
       "      <td>prochloro</td>\n",
       "    </tr>\n",
       "    <tr>\n",
       "      <th>3</th>\n",
       "      <td>2.330406</td>\n",
       "      <td>1.275528</td>\n",
       "      <td>5.276099</td>\n",
       "      <td>prochloro</td>\n",
       "    </tr>\n",
       "    <tr>\n",
       "      <th>4</th>\n",
       "      <td>2.386083</td>\n",
       "      <td>1.172052</td>\n",
       "      <td>7.774060</td>\n",
       "      <td>prochloro</td>\n",
       "    </tr>\n",
       "  </tbody>\n",
       "</table>\n",
       "</div>"
      ],
      "text/plain": [
       "   fsc_small        pe  chl_small        pop\n",
       "0   5.910258  1.207901   7.622597  prochloro\n",
       "1   2.859557  1.269581   2.958641  prochloro\n",
       "2   1.569201  1.399968   3.347019  prochloro\n",
       "3   2.330406  1.275528   5.276099  prochloro\n",
       "4   2.386083  1.172052   7.774060  prochloro"
      ]
     },
     "execution_count": 22,
     "metadata": {},
     "output_type": "execute_result"
    }
   ],
   "source": [
    "# A new \"pop\" column has been added\n",
    "opps[0].evt.head()"
   ]
  },
  {
   "cell_type": "code",
   "execution_count": 21,
   "metadata": {
    "collapsed": false
   },
   "outputs": [
    {
     "data": {
      "text/html": [
       "<div>\n",
       "<table border=\"1\" class=\"dataframe\">\n",
       "  <thead>\n",
       "    <tr style=\"text-align: right;\">\n",
       "      <th></th>\n",
       "      <th></th>\n",
       "      <th>chl_small</th>\n",
       "      <th>fsc_small</th>\n",
       "      <th>pe</th>\n",
       "    </tr>\n",
       "    <tr>\n",
       "      <th>pop</th>\n",
       "      <th></th>\n",
       "      <th></th>\n",
       "      <th></th>\n",
       "      <th></th>\n",
       "    </tr>\n",
       "  </thead>\n",
       "  <tbody>\n",
       "    <tr>\n",
       "      <th rowspan=\"8\" valign=\"top\">beads</th>\n",
       "      <th>count</th>\n",
       "      <td>36.000000</td>\n",
       "      <td>36.000000</td>\n",
       "      <td>36.000000</td>\n",
       "    </tr>\n",
       "    <tr>\n",
       "      <th>mean</th>\n",
       "      <td>61.036754</td>\n",
       "      <td>64.869435</td>\n",
       "      <td>690.968765</td>\n",
       "    </tr>\n",
       "    <tr>\n",
       "      <th>std</th>\n",
       "      <td>20.508398</td>\n",
       "      <td>15.970808</td>\n",
       "      <td>186.070659</td>\n",
       "    </tr>\n",
       "    <tr>\n",
       "      <th>min</th>\n",
       "      <td>25.312976</td>\n",
       "      <td>28.523328</td>\n",
       "      <td>340.508047</td>\n",
       "    </tr>\n",
       "    <tr>\n",
       "      <th>25%</th>\n",
       "      <td>49.357957</td>\n",
       "      <td>59.772211</td>\n",
       "      <td>645.037259</td>\n",
       "    </tr>\n",
       "    <tr>\n",
       "      <th>50%</th>\n",
       "      <td>60.999744</td>\n",
       "      <td>62.600107</td>\n",
       "      <td>691.476145</td>\n",
       "    </tr>\n",
       "    <tr>\n",
       "      <th>75%</th>\n",
       "      <td>67.779372</td>\n",
       "      <td>66.897961</td>\n",
       "      <td>738.465171</td>\n",
       "    </tr>\n",
       "    <tr>\n",
       "      <th>max</th>\n",
       "      <td>135.056675</td>\n",
       "      <td>127.487836</td>\n",
       "      <td>1269.157805</td>\n",
       "    </tr>\n",
       "    <tr>\n",
       "      <th rowspan=\"8\" valign=\"top\">picoeuks</th>\n",
       "      <th>count</th>\n",
       "      <td>12.000000</td>\n",
       "      <td>12.000000</td>\n",
       "      <td>12.000000</td>\n",
       "    </tr>\n",
       "    <tr>\n",
       "      <th>mean</th>\n",
       "      <td>323.516201</td>\n",
       "      <td>203.238659</td>\n",
       "      <td>1.780989</td>\n",
       "    </tr>\n",
       "    <tr>\n",
       "      <th>std</th>\n",
       "      <td>245.078985</td>\n",
       "      <td>151.088036</td>\n",
       "      <td>0.795003</td>\n",
       "    </tr>\n",
       "    <tr>\n",
       "      <th>min</th>\n",
       "      <td>53.818816</td>\n",
       "      <td>32.928968</td>\n",
       "      <td>1.163579</td>\n",
       "    </tr>\n",
       "    <tr>\n",
       "      <th>25%</th>\n",
       "      <td>180.574900</td>\n",
       "      <td>85.539270</td>\n",
       "      <td>1.300814</td>\n",
       "    </tr>\n",
       "    <tr>\n",
       "      <th>50%</th>\n",
       "      <td>262.510252</td>\n",
       "      <td>179.544211</td>\n",
       "      <td>1.595906</td>\n",
       "    </tr>\n",
       "    <tr>\n",
       "      <th>75%</th>\n",
       "      <td>377.707318</td>\n",
       "      <td>278.006102</td>\n",
       "      <td>1.833131</td>\n",
       "    </tr>\n",
       "    <tr>\n",
       "      <th>max</th>\n",
       "      <td>922.190963</td>\n",
       "      <td>566.465974</td>\n",
       "      <td>4.096414</td>\n",
       "    </tr>\n",
       "    <tr>\n",
       "      <th rowspan=\"8\" valign=\"top\">prochloro</th>\n",
       "      <th>count</th>\n",
       "      <td>230.000000</td>\n",
       "      <td>230.000000</td>\n",
       "      <td>230.000000</td>\n",
       "    </tr>\n",
       "    <tr>\n",
       "      <th>mean</th>\n",
       "      <td>4.040654</td>\n",
       "      <td>3.118423</td>\n",
       "      <td>1.431023</td>\n",
       "    </tr>\n",
       "    <tr>\n",
       "      <th>std</th>\n",
       "      <td>2.451387</td>\n",
       "      <td>2.673795</td>\n",
       "      <td>3.101231</td>\n",
       "    </tr>\n",
       "    <tr>\n",
       "      <th>min</th>\n",
       "      <td>1.407390</td>\n",
       "      <td>1.161292</td>\n",
       "      <td>1.000000</td>\n",
       "    </tr>\n",
       "    <tr>\n",
       "      <th>25%</th>\n",
       "      <td>2.126593</td>\n",
       "      <td>2.011678</td>\n",
       "      <td>1.088286</td>\n",
       "    </tr>\n",
       "    <tr>\n",
       "      <th>50%</th>\n",
       "      <td>3.189567</td>\n",
       "      <td>2.548666</td>\n",
       "      <td>1.202787</td>\n",
       "    </tr>\n",
       "    <tr>\n",
       "      <th>75%</th>\n",
       "      <td>5.324202</td>\n",
       "      <td>3.347019</td>\n",
       "      <td>1.319038</td>\n",
       "    </tr>\n",
       "    <tr>\n",
       "      <th>max</th>\n",
       "      <td>13.346464</td>\n",
       "      <td>29.726552</td>\n",
       "      <td>48.168392</td>\n",
       "    </tr>\n",
       "    <tr>\n",
       "      <th rowspan=\"8\" valign=\"top\">synecho</th>\n",
       "      <th>count</th>\n",
       "      <td>61.000000</td>\n",
       "      <td>61.000000</td>\n",
       "      <td>61.000000</td>\n",
       "    </tr>\n",
       "    <tr>\n",
       "      <th>mean</th>\n",
       "      <td>10.712896</td>\n",
       "      <td>15.268139</td>\n",
       "      <td>9.458794</td>\n",
       "    </tr>\n",
       "    <tr>\n",
       "      <th>std</th>\n",
       "      <td>8.864774</td>\n",
       "      <td>23.041925</td>\n",
       "      <td>7.196942</td>\n",
       "    </tr>\n",
       "    <tr>\n",
       "      <th>min</th>\n",
       "      <td>1.380819</td>\n",
       "      <td>2.727665</td>\n",
       "      <td>1.784382</td>\n",
       "    </tr>\n",
       "    <tr>\n",
       "      <th>25%</th>\n",
       "      <td>5.245048</td>\n",
       "      <td>8.065220</td>\n",
       "      <td>3.982177</td>\n",
       "    </tr>\n",
       "    <tr>\n",
       "      <th>50%</th>\n",
       "      <td>8.617909</td>\n",
       "      <td>10.518956</td>\n",
       "      <td>7.815276</td>\n",
       "    </tr>\n",
       "    <tr>\n",
       "      <th>75%</th>\n",
       "      <td>13.181724</td>\n",
       "      <td>15.438270</td>\n",
       "      <td>11.545183</td>\n",
       "    </tr>\n",
       "    <tr>\n",
       "      <th>max</th>\n",
       "      <td>50.237372</td>\n",
       "      <td>173.288416</td>\n",
       "      <td>36.212689</td>\n",
       "    </tr>\n",
       "    <tr>\n",
       "      <th rowspan=\"8\" valign=\"top\">unknown</th>\n",
       "      <th>count</th>\n",
       "      <td>6.000000</td>\n",
       "      <td>6.000000</td>\n",
       "      <td>6.000000</td>\n",
       "    </tr>\n",
       "    <tr>\n",
       "      <th>mean</th>\n",
       "      <td>3.257015</td>\n",
       "      <td>262.844893</td>\n",
       "      <td>3.094180</td>\n",
       "    </tr>\n",
       "    <tr>\n",
       "      <th>std</th>\n",
       "      <td>2.981740</td>\n",
       "      <td>444.268400</td>\n",
       "      <td>3.197045</td>\n",
       "    </tr>\n",
       "    <tr>\n",
       "      <th>min</th>\n",
       "      <td>1.334576</td>\n",
       "      <td>41.616226</td>\n",
       "      <td>1.137127</td>\n",
       "    </tr>\n",
       "    <tr>\n",
       "      <th>25%</th>\n",
       "      <td>1.744121</td>\n",
       "      <td>56.785991</td>\n",
       "      <td>1.321815</td>\n",
       "    </tr>\n",
       "    <tr>\n",
       "      <th>50%</th>\n",
       "      <td>2.259015</td>\n",
       "      <td>83.199914</td>\n",
       "      <td>1.974199</td>\n",
       "    </tr>\n",
       "    <tr>\n",
       "      <th>75%</th>\n",
       "      <td>2.719769</td>\n",
       "      <td>136.955102</td>\n",
       "      <td>2.662605</td>\n",
       "    </tr>\n",
       "    <tr>\n",
       "      <th>max</th>\n",
       "      <td>9.243644</td>\n",
       "      <td>1166.198453</td>\n",
       "      <td>9.483128</td>\n",
       "    </tr>\n",
       "  </tbody>\n",
       "</table>\n",
       "</div>"
      ],
      "text/plain": [
       "                  chl_small    fsc_small           pe\n",
       "pop                                                  \n",
       "beads     count   36.000000    36.000000    36.000000\n",
       "          mean    61.036754    64.869435   690.968765\n",
       "          std     20.508398    15.970808   186.070659\n",
       "          min     25.312976    28.523328   340.508047\n",
       "          25%     49.357957    59.772211   645.037259\n",
       "          50%     60.999744    62.600107   691.476145\n",
       "          75%     67.779372    66.897961   738.465171\n",
       "          max    135.056675   127.487836  1269.157805\n",
       "picoeuks  count   12.000000    12.000000    12.000000\n",
       "          mean   323.516201   203.238659     1.780989\n",
       "          std    245.078985   151.088036     0.795003\n",
       "          min     53.818816    32.928968     1.163579\n",
       "          25%    180.574900    85.539270     1.300814\n",
       "          50%    262.510252   179.544211     1.595906\n",
       "          75%    377.707318   278.006102     1.833131\n",
       "          max    922.190963   566.465974     4.096414\n",
       "prochloro count  230.000000   230.000000   230.000000\n",
       "          mean     4.040654     3.118423     1.431023\n",
       "          std      2.451387     2.673795     3.101231\n",
       "          min      1.407390     1.161292     1.000000\n",
       "          25%      2.126593     2.011678     1.088286\n",
       "          50%      3.189567     2.548666     1.202787\n",
       "          75%      5.324202     3.347019     1.319038\n",
       "          max     13.346464    29.726552    48.168392\n",
       "synecho   count   61.000000    61.000000    61.000000\n",
       "          mean    10.712896    15.268139     9.458794\n",
       "          std      8.864774    23.041925     7.196942\n",
       "          min      1.380819     2.727665     1.784382\n",
       "          25%      5.245048     8.065220     3.982177\n",
       "          50%      8.617909    10.518956     7.815276\n",
       "          75%     13.181724    15.438270    11.545183\n",
       "          max     50.237372   173.288416    36.212689\n",
       "unknown   count    6.000000     6.000000     6.000000\n",
       "          mean     3.257015   262.844893     3.094180\n",
       "          std      2.981740   444.268400     3.197045\n",
       "          min      1.334576    41.616226     1.137127\n",
       "          25%      1.744121    56.785991     1.321815\n",
       "          50%      2.259015    83.199914     1.974199\n",
       "          75%      2.719769   136.955102     2.662605\n",
       "          max      9.243644  1166.198453     9.483128"
      ]
     },
     "execution_count": 21,
     "metadata": {},
     "output_type": "execute_result"
    }
   ],
   "source": [
    "# Get per-population particle statistics\n",
    "opps[0].evt.groupby(by=[\"pop\"]).describe()"
   ]
  },
  {
   "cell_type": "code",
   "execution_count": null,
   "metadata": {
    "collapsed": true
   },
   "outputs": [],
   "source": []
  }
 ],
 "metadata": {
  "kernelspec": {
   "display_name": "Python 2",
   "language": "python",
   "name": "python2"
  },
  "language_info": {
   "codemirror_mode": {
    "name": "ipython",
    "version": 2
   },
   "file_extension": ".py",
   "mimetype": "text/x-python",
   "name": "python",
   "nbconvert_exporter": "python",
   "pygments_lexer": "ipython2",
   "version": "2.7.11"
  }
 },
 "nbformat": 4,
 "nbformat_minor": 0
}
