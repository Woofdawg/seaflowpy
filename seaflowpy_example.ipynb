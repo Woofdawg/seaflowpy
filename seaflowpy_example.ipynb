{
 "cells": [
  {
   "cell_type": "markdown",
   "metadata": {},
   "source": [
    "The full functionality of `seaflowpy` can be found through the various submodules, e.g. `seaflowpy.db`, `seaflowpy.evt`. However, for convenience a few of the most commonly-used functions and classes are exposed at the package level.\n",
    "\n",
    "* **seaflowpy.EVT**  \n",
    "Class for EVT particle data\n",
    "\n",
    "* **seaflowpy.find_evt_files**  \n",
    "Function to recursively find EVT/OPP file paths within a directory\n",
    "\n",
    "The code below will use the test dataset in this repository at `./tests/testcruise/`. The files in this directory hold raw EVT data, but in this example workflow we'll treat the files as though they actually contain filtered OPP data. For example, we may have already filtered EVT to OPP data on the command-line with `seaflowpy_filter`."
   ]
  },
  {
   "cell_type": "markdown",
   "metadata": {},
   "source": [
    "A note on terminology: In this package the phrase EVT can have two subtley different meanings.  \n",
    "\n",
    "* Any binary file or Python data structure which holds SeaFlow particle data, regardless of whether raw or filtered.\n",
    "* In the context of a filtering workflow, EVT refers to the raw, unfiltered/unfocused version of particle data, distinct from OPP data which refers to the filtered/focused particles.  \n",
    "\n",
    "When filtering, we talk about converting EVT data to OPP data. We may read a raw EVT file into Python as a `seaflowpy.EVT` object and the raw particle data is stored as a pandas DataFrame in the `EVT.df` attribute. We then filter the raw particle data with `seaflowpy.EVT.filter` and this filtered particle data is returned as a new EVT object representing OPP data. `seaflowpy_filter` is a convenient command-line wrapper for this process that can operate on whole cruises at a time."
   ]
  },
  {
   "cell_type": "code",
   "execution_count": 1,
   "metadata": {
    "collapsed": true
   },
   "outputs": [],
   "source": [
    "import seaflowpy as sfp"
   ]
  },
  {
   "cell_type": "code",
   "execution_count": 2,
   "metadata": {
    "collapsed": false
   },
   "outputs": [
    {
     "data": {
      "text/plain": [
       "['./tests/testcruise_opp/2014_185/2014-07-04T00-00-02+00-00.opp.gz',\n",
       " './tests/testcruise_opp/2014_185/2014-07-04T00-03-02+00-00.opp.gz']"
      ]
     },
     "execution_count": 2,
     "metadata": {},
     "output_type": "execute_result"
    }
   ],
   "source": [
    "opp_files = sfp.find_evt_files(\"./tests/testcruise_opp\")\n",
    "opp_files"
   ]
  },
  {
   "cell_type": "markdown",
   "metadata": {},
   "source": [
    "Let's read the EVT files into memory. In many cases we don't plan on using all 10 channels of particle data, so here we'll select only three of the possible ten channels (columns). This can significantly speed up data import when transforming (exponentiating log data) and lowers the memory footprint."
   ]
  },
  {
   "cell_type": "code",
   "execution_count": 3,
   "metadata": {
    "collapsed": false
   },
   "outputs": [
    {
     "data": {
      "text/plain": [
       "['time',\n",
       " 'pulse_width',\n",
       " 'D1',\n",
       " 'D2',\n",
       " 'fsc_small',\n",
       " 'fsc_perp',\n",
       " 'fsc_big',\n",
       " 'pe',\n",
       " 'chl_small',\n",
       " 'chl_big']"
      ]
     },
     "execution_count": 3,
     "metadata": {},
     "output_type": "execute_result"
    }
   ],
   "source": [
    "# The possible column names to choose from\n",
    "sfp.EVT.all_columns"
   ]
  },
  {
   "cell_type": "code",
   "execution_count": 4,
   "metadata": {
    "collapsed": false
   },
   "outputs": [],
   "source": [
    "opps = []\n",
    "for f in opp_files:\n",
    "    opps.append(sfp.EVT(f, transform=True, columns=[\"fsc_small\", \"chl_small\", \"pe\"]))"
   ]
  },
  {
   "cell_type": "markdown",
   "metadata": {},
   "source": [
    "Now we have some EVT objects in `opps`. We can print an one of the `EVT` objects in `opps` to get a quick summary of it's content."
   ]
  },
  {
   "cell_type": "code",
   "execution_count": 5,
   "metadata": {
    "collapsed": false
   },
   "outputs": [
    {
     "name": "stdout",
     "output_type": "stream",
     "text": [
      "{\n",
      "  \"path\": \"./tests/testcruise_opp/2014_185/2014-07-04T00-00-02+00-00.opp.gz\", \n",
      "  \"file_id\": \"2014_185/2014-07-04T00-00-02+00-00\", \n",
      "  \"header_count\": 386, \n",
      "  \"event_count\": 386, \n",
      "  \"particle_count\": 386, \n",
      "  \"columns\": [\n",
      "    \"fsc_small\", \n",
      "    \"pe\", \n",
      "    \"chl_small\"\n",
      "  ], \n",
      "  \"filter_options\": {\n",
      "    \"origin\": null, \n",
      "    \"width\": null, \n",
      "    \"notch1\": null, \n",
      "    \"notch2\": null, \n",
      "    \"offset\": null\n",
      "  }\n",
      "}\n"
     ]
    }
   ],
   "source": [
    "print opps[0]"
   ]
  },
  {
   "cell_type": "markdown",
   "metadata": {},
   "source": [
    "The underlying particle data can be accessed as a pandas DataFrame in the `df` attribute."
   ]
  },
  {
   "cell_type": "code",
   "execution_count": 6,
   "metadata": {
    "collapsed": false
   },
   "outputs": [
    {
     "name": "stdout",
     "output_type": "stream",
     "text": [
      "<class 'pandas.core.frame.DataFrame'>\n",
      "RangeIndex: 386 entries, 0 to 385\n",
      "Data columns (total 3 columns):\n",
      "fsc_small    386 non-null float64\n",
      "pe           386 non-null float64\n",
      "chl_small    386 non-null float64\n",
      "dtypes: float64(3)\n",
      "memory usage: 9.1 KB\n"
     ]
    }
   ],
   "source": [
    "opps[0].df.info()"
   ]
  },
  {
   "cell_type": "code",
   "execution_count": 7,
   "metadata": {
    "collapsed": false
   },
   "outputs": [
    {
     "data": {
      "text/html": [
       "<div>\n",
       "<table border=\"1\" class=\"dataframe\">\n",
       "  <thead>\n",
       "    <tr style=\"text-align: right;\">\n",
       "      <th></th>\n",
       "      <th>fsc_small</th>\n",
       "      <th>pe</th>\n",
       "      <th>chl_small</th>\n",
       "    </tr>\n",
       "  </thead>\n",
       "  <tbody>\n",
       "    <tr>\n",
       "      <th>0</th>\n",
       "      <td>5.910258</td>\n",
       "      <td>1.207901</td>\n",
       "      <td>7.622597</td>\n",
       "    </tr>\n",
       "    <tr>\n",
       "      <th>1</th>\n",
       "      <td>1.569201</td>\n",
       "      <td>1.399968</td>\n",
       "      <td>3.347019</td>\n",
       "    </tr>\n",
       "    <tr>\n",
       "      <th>2</th>\n",
       "      <td>73.487071</td>\n",
       "      <td>1.660321</td>\n",
       "      <td>74.359745</td>\n",
       "    </tr>\n",
       "    <tr>\n",
       "      <th>3</th>\n",
       "      <td>2.330406</td>\n",
       "      <td>1.275528</td>\n",
       "      <td>5.276099</td>\n",
       "    </tr>\n",
       "    <tr>\n",
       "      <th>4</th>\n",
       "      <td>2.386083</td>\n",
       "      <td>1.172052</td>\n",
       "      <td>7.774060</td>\n",
       "    </tr>\n",
       "  </tbody>\n",
       "</table>\n",
       "</div>"
      ],
      "text/plain": [
       "   fsc_small        pe  chl_small\n",
       "0   5.910258  1.207901   7.622597\n",
       "1   1.569201  1.399968   3.347019\n",
       "2  73.487071  1.660321  74.359745\n",
       "3   2.330406  1.275528   5.276099\n",
       "4   2.386083  1.172052   7.774060"
      ]
     },
     "execution_count": 7,
     "metadata": {},
     "output_type": "execute_result"
    }
   ],
   "source": [
    "opps[0].df.head()"
   ]
  },
  {
   "cell_type": "markdown",
   "metadata": {},
   "source": [
    "Let's assume this data set has already been analyzed and population classifications exist in a directory called `./tests/testcruise_vct`. We can add these per-particle classifications to our `EVT` objects with `seaflowpy.EVT.add_vct`.\n",
    "\n",
    "`add_vct` can take a directory as its only argument. In order to find the appropriate VCT file the structure of this directory should mirror the OPP and raw EVT directories (julian day/file).\n",
    "\n",
    "`add_vct` can also take a path to a VCT file if the file has an unconventional name or location."
   ]
  },
  {
   "cell_type": "code",
   "execution_count": 11,
   "metadata": {
    "collapsed": false
   },
   "outputs": [
    {
     "data": {
      "text/html": [
       "<div>\n",
       "<table border=\"1\" class=\"dataframe\">\n",
       "  <thead>\n",
       "    <tr style=\"text-align: right;\">\n",
       "      <th></th>\n",
       "      <th>fsc_small</th>\n",
       "      <th>pe</th>\n",
       "      <th>chl_small</th>\n",
       "      <th>pop</th>\n",
       "    </tr>\n",
       "  </thead>\n",
       "  <tbody>\n",
       "    <tr>\n",
       "      <th>0</th>\n",
       "      <td>5.910258</td>\n",
       "      <td>1.207901</td>\n",
       "      <td>7.622597</td>\n",
       "      <td>prochloro</td>\n",
       "    </tr>\n",
       "    <tr>\n",
       "      <th>1</th>\n",
       "      <td>1.569201</td>\n",
       "      <td>1.399968</td>\n",
       "      <td>3.347019</td>\n",
       "      <td>prochloro</td>\n",
       "    </tr>\n",
       "    <tr>\n",
       "      <th>2</th>\n",
       "      <td>73.487071</td>\n",
       "      <td>1.660321</td>\n",
       "      <td>74.359745</td>\n",
       "      <td>picoeuk</td>\n",
       "    </tr>\n",
       "    <tr>\n",
       "      <th>3</th>\n",
       "      <td>2.330406</td>\n",
       "      <td>1.275528</td>\n",
       "      <td>5.276099</td>\n",
       "      <td>prochloro</td>\n",
       "    </tr>\n",
       "    <tr>\n",
       "      <th>4</th>\n",
       "      <td>2.386083</td>\n",
       "      <td>1.172052</td>\n",
       "      <td>7.774060</td>\n",
       "      <td>prochloro</td>\n",
       "    </tr>\n",
       "  </tbody>\n",
       "</table>\n",
       "</div>"
      ],
      "text/plain": [
       "   fsc_small        pe  chl_small        pop\n",
       "0   5.910258  1.207901   7.622597  prochloro\n",
       "1   1.569201  1.399968   3.347019  prochloro\n",
       "2  73.487071  1.660321  74.359745    picoeuk\n",
       "3   2.330406  1.275528   5.276099  prochloro\n",
       "4   2.386083  1.172052   7.774060  prochloro"
      ]
     },
     "execution_count": 11,
     "metadata": {},
     "output_type": "execute_result"
    }
   ],
   "source": [
    "for opp in opps:\n",
    "    opp.add_vct(\"./tests/testcruise_vct\")\n",
    "opps[0].df.head()  # a new \"pop\" column has been added"
   ]
  },
  {
   "cell_type": "markdown",
   "metadata": {},
   "source": [
    "Now we can operate on the pandas particle DataFrame directly to get per-population statistics ..."
   ]
  },
  {
   "cell_type": "code",
   "execution_count": 12,
   "metadata": {
    "collapsed": false
   },
   "outputs": [
    {
     "data": {
      "text/html": [
       "<div>\n",
       "<table border=\"1\" class=\"dataframe\">\n",
       "  <thead>\n",
       "    <tr style=\"text-align: right;\">\n",
       "      <th></th>\n",
       "      <th></th>\n",
       "      <th>chl_small</th>\n",
       "      <th>fsc_small</th>\n",
       "      <th>pe</th>\n",
       "    </tr>\n",
       "    <tr>\n",
       "      <th>pop</th>\n",
       "      <th></th>\n",
       "      <th></th>\n",
       "      <th></th>\n",
       "      <th></th>\n",
       "    </tr>\n",
       "  </thead>\n",
       "  <tbody>\n",
       "    <tr>\n",
       "      <th rowspan=\"8\" valign=\"top\">beads</th>\n",
       "      <th>count</th>\n",
       "      <td>62.000000</td>\n",
       "      <td>62.000000</td>\n",
       "      <td>62.000000</td>\n",
       "    </tr>\n",
       "    <tr>\n",
       "      <th>mean</th>\n",
       "      <td>61.331928</td>\n",
       "      <td>65.510412</td>\n",
       "      <td>703.436398</td>\n",
       "    </tr>\n",
       "    <tr>\n",
       "      <th>std</th>\n",
       "      <td>18.317616</td>\n",
       "      <td>16.732172</td>\n",
       "      <td>186.882179</td>\n",
       "    </tr>\n",
       "    <tr>\n",
       "      <th>min</th>\n",
       "      <td>25.481625</td>\n",
       "      <td>28.523328</td>\n",
       "      <td>340.508047</td>\n",
       "    </tr>\n",
       "    <tr>\n",
       "      <th>25%</th>\n",
       "      <td>51.075239</td>\n",
       "      <td>58.808637</td>\n",
       "      <td>620.671852</td>\n",
       "    </tr>\n",
       "    <tr>\n",
       "      <th>50%</th>\n",
       "      <td>60.147136</td>\n",
       "      <td>62.292189</td>\n",
       "      <td>685.371556</td>\n",
       "    </tr>\n",
       "    <tr>\n",
       "      <th>75%</th>\n",
       "      <td>66.955352</td>\n",
       "      <td>66.079745</td>\n",
       "      <td>738.692231</td>\n",
       "    </tr>\n",
       "    <tr>\n",
       "      <th>max</th>\n",
       "      <td>135.056675</td>\n",
       "      <td>131.306472</td>\n",
       "      <td>1318.311393</td>\n",
       "    </tr>\n",
       "    <tr>\n",
       "      <th rowspan=\"8\" valign=\"top\">picoeuk</th>\n",
       "      <th>count</th>\n",
       "      <td>20.000000</td>\n",
       "      <td>20.000000</td>\n",
       "      <td>20.000000</td>\n",
       "    </tr>\n",
       "    <tr>\n",
       "      <th>mean</th>\n",
       "      <td>290.085973</td>\n",
       "      <td>163.255617</td>\n",
       "      <td>1.836653</td>\n",
       "    </tr>\n",
       "    <tr>\n",
       "      <th>std</th>\n",
       "      <td>330.518240</td>\n",
       "      <td>96.619975</td>\n",
       "      <td>1.069171</td>\n",
       "    </tr>\n",
       "    <tr>\n",
       "      <th>min</th>\n",
       "      <td>53.818816</td>\n",
       "      <td>32.928968</td>\n",
       "      <td>1.163579</td>\n",
       "    </tr>\n",
       "    <tr>\n",
       "      <th>25%</th>\n",
       "      <td>95.702179</td>\n",
       "      <td>77.999994</td>\n",
       "      <td>1.294704</td>\n",
       "    </tr>\n",
       "    <tr>\n",
       "      <th>50%</th>\n",
       "      <td>215.288536</td>\n",
       "      <td>172.353941</td>\n",
       "      <td>1.544872</td>\n",
       "    </tr>\n",
       "    <tr>\n",
       "      <th>75%</th>\n",
       "      <td>349.497415</td>\n",
       "      <td>206.037612</td>\n",
       "      <td>1.714948</td>\n",
       "    </tr>\n",
       "    <tr>\n",
       "      <th>max</th>\n",
       "      <td>1540.007685</td>\n",
       "      <td>357.456054</td>\n",
       "      <td>5.802952</td>\n",
       "    </tr>\n",
       "    <tr>\n",
       "      <th rowspan=\"8\" valign=\"top\">prochloro</th>\n",
       "      <th>count</th>\n",
       "      <td>221.000000</td>\n",
       "      <td>221.000000</td>\n",
       "      <td>221.000000</td>\n",
       "    </tr>\n",
       "    <tr>\n",
       "      <th>mean</th>\n",
       "      <td>4.240353</td>\n",
       "      <td>3.581225</td>\n",
       "      <td>1.435859</td>\n",
       "    </tr>\n",
       "    <tr>\n",
       "      <th>std</th>\n",
       "      <td>2.822278</td>\n",
       "      <td>3.436110</td>\n",
       "      <td>3.163474</td>\n",
       "    </tr>\n",
       "    <tr>\n",
       "      <th>min</th>\n",
       "      <td>1.407390</td>\n",
       "      <td>1.161292</td>\n",
       "      <td>1.000000</td>\n",
       "    </tr>\n",
       "    <tr>\n",
       "      <th>25%</th>\n",
       "      <td>2.175326</td>\n",
       "      <td>2.141354</td>\n",
       "      <td>1.088286</td>\n",
       "    </tr>\n",
       "    <tr>\n",
       "      <th>50%</th>\n",
       "      <td>3.454062</td>\n",
       "      <td>2.738420</td>\n",
       "      <td>1.203157</td>\n",
       "    </tr>\n",
       "    <tr>\n",
       "      <th>75%</th>\n",
       "      <td>5.367058</td>\n",
       "      <td>3.664079</td>\n",
       "      <td>1.310185</td>\n",
       "    </tr>\n",
       "    <tr>\n",
       "      <th>max</th>\n",
       "      <td>23.077144</td>\n",
       "      <td>29.726552</td>\n",
       "      <td>48.168392</td>\n",
       "    </tr>\n",
       "    <tr>\n",
       "      <th rowspan=\"8\" valign=\"top\">synecho</th>\n",
       "      <th>count</th>\n",
       "      <td>78.000000</td>\n",
       "      <td>78.000000</td>\n",
       "      <td>78.000000</td>\n",
       "    </tr>\n",
       "    <tr>\n",
       "      <th>mean</th>\n",
       "      <td>10.070132</td>\n",
       "      <td>17.089432</td>\n",
       "      <td>9.630957</td>\n",
       "    </tr>\n",
       "    <tr>\n",
       "      <th>std</th>\n",
       "      <td>8.209542</td>\n",
       "      <td>22.624491</td>\n",
       "      <td>6.889422</td>\n",
       "    </tr>\n",
       "    <tr>\n",
       "      <th>min</th>\n",
       "      <td>1.380819</td>\n",
       "      <td>2.727665</td>\n",
       "      <td>2.201159</td>\n",
       "    </tr>\n",
       "    <tr>\n",
       "      <th>25%</th>\n",
       "      <td>4.940535</td>\n",
       "      <td>8.543895</td>\n",
       "      <td>4.315614</td>\n",
       "    </tr>\n",
       "    <tr>\n",
       "      <th>50%</th>\n",
       "      <td>8.287975</td>\n",
       "      <td>11.504535</td>\n",
       "      <td>7.731612</td>\n",
       "    </tr>\n",
       "    <tr>\n",
       "      <th>75%</th>\n",
       "      <td>12.550341</td>\n",
       "      <td>16.653181</td>\n",
       "      <td>12.094722</td>\n",
       "    </tr>\n",
       "    <tr>\n",
       "      <th>max</th>\n",
       "      <td>50.237372</td>\n",
       "      <td>173.288416</td>\n",
       "      <td>36.212689</td>\n",
       "    </tr>\n",
       "    <tr>\n",
       "      <th rowspan=\"8\" valign=\"top\">unknown</th>\n",
       "      <th>count</th>\n",
       "      <td>5.000000</td>\n",
       "      <td>5.000000</td>\n",
       "      <td>5.000000</td>\n",
       "    </tr>\n",
       "    <tr>\n",
       "      <th>mean</th>\n",
       "      <td>5.433694</td>\n",
       "      <td>356.833772</td>\n",
       "      <td>4.404959</td>\n",
       "    </tr>\n",
       "    <tr>\n",
       "      <th>std</th>\n",
       "      <td>4.887757</td>\n",
       "      <td>464.046203</td>\n",
       "      <td>3.279403</td>\n",
       "    </tr>\n",
       "    <tr>\n",
       "      <th>min</th>\n",
       "      <td>1.334576</td>\n",
       "      <td>51.267114</td>\n",
       "      <td>1.486004</td>\n",
       "    </tr>\n",
       "    <tr>\n",
       "      <th>25%</th>\n",
       "      <td>2.172386</td>\n",
       "      <td>93.057204</td>\n",
       "      <td>2.462393</td>\n",
       "    </tr>\n",
       "    <tr>\n",
       "      <th>50%</th>\n",
       "      <td>2.345644</td>\n",
       "      <td>151.587735</td>\n",
       "      <td>2.729343</td>\n",
       "    </tr>\n",
       "    <tr>\n",
       "      <th>75%</th>\n",
       "      <td>9.243644</td>\n",
       "      <td>322.058355</td>\n",
       "      <td>5.863926</td>\n",
       "    </tr>\n",
       "    <tr>\n",
       "      <th>max</th>\n",
       "      <td>12.072219</td>\n",
       "      <td>1166.198453</td>\n",
       "      <td>9.483128</td>\n",
       "    </tr>\n",
       "  </tbody>\n",
       "</table>\n",
       "</div>"
      ],
      "text/plain": [
       "                   chl_small    fsc_small           pe\n",
       "pop                                                   \n",
       "beads     count    62.000000    62.000000    62.000000\n",
       "          mean     61.331928    65.510412   703.436398\n",
       "          std      18.317616    16.732172   186.882179\n",
       "          min      25.481625    28.523328   340.508047\n",
       "          25%      51.075239    58.808637   620.671852\n",
       "          50%      60.147136    62.292189   685.371556\n",
       "          75%      66.955352    66.079745   738.692231\n",
       "          max     135.056675   131.306472  1318.311393\n",
       "picoeuk   count    20.000000    20.000000    20.000000\n",
       "          mean    290.085973   163.255617     1.836653\n",
       "          std     330.518240    96.619975     1.069171\n",
       "          min      53.818816    32.928968     1.163579\n",
       "          25%      95.702179    77.999994     1.294704\n",
       "          50%     215.288536   172.353941     1.544872\n",
       "          75%     349.497415   206.037612     1.714948\n",
       "          max    1540.007685   357.456054     5.802952\n",
       "prochloro count   221.000000   221.000000   221.000000\n",
       "          mean      4.240353     3.581225     1.435859\n",
       "          std       2.822278     3.436110     3.163474\n",
       "          min       1.407390     1.161292     1.000000\n",
       "          25%       2.175326     2.141354     1.088286\n",
       "          50%       3.454062     2.738420     1.203157\n",
       "          75%       5.367058     3.664079     1.310185\n",
       "          max      23.077144    29.726552    48.168392\n",
       "synecho   count    78.000000    78.000000    78.000000\n",
       "          mean     10.070132    17.089432     9.630957\n",
       "          std       8.209542    22.624491     6.889422\n",
       "          min       1.380819     2.727665     2.201159\n",
       "          25%       4.940535     8.543895     4.315614\n",
       "          50%       8.287975    11.504535     7.731612\n",
       "          75%      12.550341    16.653181    12.094722\n",
       "          max      50.237372   173.288416    36.212689\n",
       "unknown   count     5.000000     5.000000     5.000000\n",
       "          mean      5.433694   356.833772     4.404959\n",
       "          std       4.887757   464.046203     3.279403\n",
       "          min       1.334576    51.267114     1.486004\n",
       "          25%       2.172386    93.057204     2.462393\n",
       "          50%       2.345644   151.587735     2.729343\n",
       "          75%       9.243644   322.058355     5.863926\n",
       "          max      12.072219  1166.198453     9.483128"
      ]
     },
     "execution_count": 12,
     "metadata": {},
     "output_type": "execute_result"
    }
   ],
   "source": [
    "bypop = opps[0].df.groupby(\"pop\")\n",
    "bypop.describe()"
   ]
  },
  {
   "cell_type": "code",
   "execution_count": 13,
   "metadata": {
    "collapsed": false
   },
   "outputs": [
    {
     "data": {
      "text/html": [
       "<div>\n",
       "<table border=\"1\" class=\"dataframe\">\n",
       "  <thead>\n",
       "    <tr style=\"text-align: right;\">\n",
       "      <th></th>\n",
       "      <th>fsc_small</th>\n",
       "      <th>pe</th>\n",
       "      <th>chl_small</th>\n",
       "    </tr>\n",
       "    <tr>\n",
       "      <th>pop</th>\n",
       "      <th></th>\n",
       "      <th></th>\n",
       "      <th></th>\n",
       "    </tr>\n",
       "  </thead>\n",
       "  <tbody>\n",
       "    <tr>\n",
       "      <th>beads</th>\n",
       "      <td>65.510412</td>\n",
       "      <td>703.436398</td>\n",
       "      <td>61.331928</td>\n",
       "    </tr>\n",
       "    <tr>\n",
       "      <th>picoeuk</th>\n",
       "      <td>163.255617</td>\n",
       "      <td>1.836653</td>\n",
       "      <td>290.085973</td>\n",
       "    </tr>\n",
       "    <tr>\n",
       "      <th>prochloro</th>\n",
       "      <td>3.581225</td>\n",
       "      <td>1.435859</td>\n",
       "      <td>4.240353</td>\n",
       "    </tr>\n",
       "    <tr>\n",
       "      <th>synecho</th>\n",
       "      <td>17.089432</td>\n",
       "      <td>9.630957</td>\n",
       "      <td>10.070132</td>\n",
       "    </tr>\n",
       "    <tr>\n",
       "      <th>unknown</th>\n",
       "      <td>356.833772</td>\n",
       "      <td>4.404959</td>\n",
       "      <td>5.433694</td>\n",
       "    </tr>\n",
       "  </tbody>\n",
       "</table>\n",
       "</div>"
      ],
      "text/plain": [
       "            fsc_small          pe   chl_small\n",
       "pop                                          \n",
       "beads       65.510412  703.436398   61.331928\n",
       "picoeuk    163.255617    1.836653  290.085973\n",
       "prochloro    3.581225    1.435859    4.240353\n",
       "synecho     17.089432    9.630957   10.070132\n",
       "unknown    356.833772    4.404959    5.433694"
      ]
     },
     "execution_count": 13,
     "metadata": {},
     "output_type": "execute_result"
    }
   ],
   "source": [
    "bypop.mean()"
   ]
  },
  {
   "cell_type": "code",
   "execution_count": 14,
   "metadata": {
    "collapsed": false
   },
   "outputs": [
    {
     "data": {
      "text/plain": [
       "pop\n",
       "beads         62\n",
       "picoeuk       20\n",
       "prochloro    221\n",
       "synecho       78\n",
       "unknown        5\n",
       "dtype: int64"
      ]
     },
     "execution_count": 14,
     "metadata": {},
     "output_type": "execute_result"
    }
   ],
   "source": [
    "bypop.size()"
   ]
  },
  {
   "cell_type": "markdown",
   "metadata": {},
   "source": [
    "Or we can call the `calc_pop_stats` method of the EVT object to get the same summary statistics that are saved in the SQLite3 database in a full classification workflow. This returns a dictionary keyed by population name with particle counts and per-channel means for fsc_small, fsc_perp, pe, chl_small. If one of these columns is not present in the EVT object, as fsc_perp is not here, it's left out of the results."
   ]
  },
  {
   "cell_type": "code",
   "execution_count": 15,
   "metadata": {
    "collapsed": false
   },
   "outputs": [
    {
     "name": "stdout",
     "output_type": "stream",
     "text": [
      "{'beads': {'chl_small': 61.331927505955953,\n",
      "           'count': 62,\n",
      "           'fsc_small': 65.510412124807516,\n",
      "           'pe': 703.43639797379763,\n",
      "           'pop': 'beads'},\n",
      " 'picoeuk': {'chl_small': 290.08597340883045,\n",
      "             'count': 20,\n",
      "             'fsc_small': 163.2556167296695,\n",
      "             'pe': 1.836653035695474,\n",
      "             'pop': 'picoeuk'},\n",
      " 'prochloro': {'chl_small': 4.240352677583366,\n",
      "               'count': 221,\n",
      "               'fsc_small': 3.5812246921776758,\n",
      "               'pe': 1.4358590192656131,\n",
      "               'pop': 'prochloro'},\n",
      " 'synecho': {'chl_small': 10.070132102414576,\n",
      "             'count': 78,\n",
      "             'fsc_small': 17.089432037286574,\n",
      "             'pe': 9.6309571133821361,\n",
      "             'pop': 'synecho'},\n",
      " 'unknown': {'chl_small': 5.4336937909910636,\n",
      "             'count': 5,\n",
      "             'fsc_small': 356.83377202864756,\n",
      "             'pe': 4.404958684938495,\n",
      "             'pop': 'unknown'}}\n"
     ]
    }
   ],
   "source": [
    "import pprint\n",
    "pprint.pprint(opps[0].calc_pop_stats())"
   ]
  },
  {
   "cell_type": "code",
   "execution_count": null,
   "metadata": {
    "collapsed": true
   },
   "outputs": [],
   "source": []
  }
 ],
 "metadata": {
  "kernelspec": {
   "display_name": "Python 2",
   "language": "python",
   "name": "python2"
  },
  "language_info": {
   "codemirror_mode": {
    "name": "ipython",
    "version": 2
   },
   "file_extension": ".py",
   "mimetype": "text/x-python",
   "name": "python",
   "nbconvert_exporter": "python",
   "pygments_lexer": "ipython2",
   "version": "2.7.11"
  }
 },
 "nbformat": 4,
 "nbformat_minor": 0
}
